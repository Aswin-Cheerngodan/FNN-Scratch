{
 "cells": [
  {
   "cell_type": "code",
   "execution_count": 4,
   "metadata": {},
   "outputs": [],
   "source": [
    "import numpy as np\n",
    "import pandas as pd\n",
    "import matplotlib.pyplot as plt\n",
    "import seaborn\n",
    "import scipy"
   ]
  },
  {
   "cell_type": "code",
   "execution_count": null,
   "metadata": {},
   "outputs": [],
   "source": [
    "class neuralNetwork:\n",
    "    def __init__(self,inputnodes,hiddennodes,outputnodes,learning_rate):\n",
    "        self.inodes = inputnodes\n",
    "        self.hnodes = hiddennodes\n",
    "        self.onodes = outputnodes\n",
    "        self.lr = learning_rate\n",
    "\n",
    "        self.wih = np.random.normal(0.0,pow(self.hnodes,-0.5),(self.hnodes,self.inodes))\n",
    "        self.who = np.random.normal(0.0,pow(self.onodes,-0.5,(self.onodes,self.hnodes)))\n",
    "\n",
    "        self.activation_function = lambda x: scipy.special.expit(x)\n",
    "\n",
    "    def train(self,input_list,target_list):\n",
    "        inputs = np.array(input_list,ndmin=2).T\n",
    "        targets = np.array(target_list,ndmin=2).T\n",
    "\n",
    "        hidden_inputs = np.dot(self.wih,inputs)\n",
    "        hidden_outputs = self.activation_function(hidden_inputs)\n",
    "\n",
    "        final_inputs = np.dot(self.who,hidden_inputs)\n",
    "        final_outputs = self.activation_function(final_inputs)\n",
    "\n",
    "        output_errors = targets - final_outputs \n",
    "        hidden_errors = np.dot(self.who.T,output_errors)\n",
    "\n",
    "        self.who += self.lr*np.dot((output_errors*final_outputs*(1-final_outputs)),np.transpose(hidden_inputs))\n",
    "        self.wih += self.lr*np.dot((hidden_errors*hidden_outputs*(1-hidden_outputs)),np.transpose(inputs))\n",
    "\n",
    "\n",
    "    def query(self,inputs_list):\n",
    "        inputs = np.array(inputs_list,ndmin=2).T\n",
    "\n",
    "        hidden_inputs = np.dot(self.wih,inputs)\n",
    "        hidden_outputs = self.activation_function(hidden_inputs)\n",
    "        \n",
    "        final_inputs = np.dot(self.who,hidden_outputs)\n",
    "        final_outputs = self.activation_function(final_inputs)\n",
    "\n",
    "        return final_outputs\n",
    "    \n"
   ]
  },
  {
   "cell_type": "code",
   "execution_count": 8,
   "metadata": {},
   "outputs": [
    {
     "name": "stdout",
     "output_type": "stream",
     "text": [
      "[[-0.17285374  1.03259244  0.25727131]\n",
      " [ 0.08060507 -0.07130536  0.07850078]\n",
      " [-1.02395854  0.14453169  0.23607477]\n",
      " [-0.13565411 -0.03891316  0.36814651]\n",
      " [ 0.4193057  -0.13284728 -0.37040514]]\n",
      "\n",
      "[[-0.63251063 -0.10085104  0.9573909   0.70906453 -1.39634968]\n",
      " [-0.4700948   0.89911411  0.3814442  -0.13710531 -0.46109094]]\n"
     ]
    },
    {
     "data": {
      "text/plain": [
       "<__main__.NN at 0x1c6c49bd670>"
      ]
     },
     "execution_count": 8,
     "metadata": {},
     "output_type": "execute_result"
    }
   ],
   "source": [
    "class NN:\n",
    "    def __init__(self,inputnodes,hiddennodes,outputnodes,learning_rate):\n",
    "        self.inodes = inputnodes\n",
    "        self.hnodes = hiddennodes\n",
    "        self.onodes = outputnodes\n",
    "        self.lr = learning_rate\n",
    "\n",
    "        self.wih = np.random.normal(0.0,pow(self.hnodes,-0.5),(self.hnodes,self.inodes))\n",
    "        self.bih = 0\n",
    "    \n",
    "        self.who = np.random.normal(0.0,pow(self.onodes,-0.5),(self.onodes,self.hnodes))\n",
    "        self.bho = 0\n",
    "\n",
    "    def forward(self,X):\n",
    "        hidden_inputs = np.dot(self.wih,X)+self.bih\n",
    "        hidden_outputs = self.activation(hidden_inputs)\n",
    "\n",
    "        final_inputs = np.dot(self.who,hidden_outputs)+self.bih\n",
    "        final_outputs = self.activation(final_inputs)\n",
    "\n",
    "        return final_outputs\n",
    "    \n",
    "    def\n",
    "\n",
    "\n",
    "    def activation(self,z):\n",
    "        return 1/(1+(np.exp(-z)))\n",
    "    \n",
    "\n"
   ]
  },
  {
   "cell_type": "code",
   "execution_count": null,
   "metadata": {},
   "outputs": [],
   "source": []
  }
 ],
 "metadata": {
  "kernelspec": {
   "display_name": "dl_env",
   "language": "python",
   "name": "python3"
  },
  "language_info": {
   "codemirror_mode": {
    "name": "ipython",
    "version": 3
   },
   "file_extension": ".py",
   "mimetype": "text/x-python",
   "name": "python",
   "nbconvert_exporter": "python",
   "pygments_lexer": "ipython3",
   "version": "3.12.3"
  }
 },
 "nbformat": 4,
 "nbformat_minor": 2
}
